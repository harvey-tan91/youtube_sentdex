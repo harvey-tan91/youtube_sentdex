{
 "metadata": {
  "language_info": {
   "codemirror_mode": {
    "name": "ipython",
    "version": 3
   },
   "file_extension": ".py",
   "mimetype": "text/x-python",
   "name": "python",
   "nbconvert_exporter": "python",
   "pygments_lexer": "ipython3",
   "version": "3.8.3-final"
  },
  "orig_nbformat": 2,
  "kernelspec": {
   "name": "python3",
   "display_name": "Python 3",
   "language": "python"
  }
 },
 "nbformat": 4,
 "nbformat_minor": 2,
 "cells": [
  {
   "cell_type": "code",
   "execution_count": 62,
   "metadata": {},
   "outputs": [],
   "source": [
    "import numpy as np"
   ]
  },
  {
   "source": [
    "# Introduction\n",
    "* Data will get passed from the input layer to the hidden layers and finally to the output layer\n",
    "* Training the model involves tuning the weights and bias\n",
    "    * Each connection from one neuron to another neuron is a weight\n",
    "    * And each neuron has a bias"
   ],
   "cell_type": "markdown",
   "metadata": {}
  },
  {
   "cell_type": "code",
   "execution_count": 63,
   "metadata": {},
   "outputs": [
    {
     "output_type": "execute_result",
     "data": {
      "text/plain": [
       "2.3"
      ]
     },
     "metadata": {},
     "execution_count": 63
    }
   ],
   "source": [
    "inputs = [1, 2, 3] # unique input\n",
    "weights = [0.2, 0.8, -0.5] # each unique input will have a unique weight \n",
    "bias = 2 # each unique neuron has a bias\n",
    "\n",
    "output = inputs[0] * weights[0] + \\\n",
    "         inputs[1] * weights[1] + \\\n",
    "         inputs[2] * weights[2] + \\\n",
    "         bias\n",
    "output"
   ]
  },
  {
   "source": [
    "# Coding a Layer"
   ],
   "cell_type": "markdown",
   "metadata": {}
  },
  {
   "cell_type": "code",
   "execution_count": 64,
   "metadata": {},
   "outputs": [
    {
     "output_type": "execute_result",
     "data": {
      "text/plain": [
       "4.8"
      ]
     },
     "metadata": {},
     "execution_count": 64
    }
   ],
   "source": [
    "inputs = [1, 2, 3, 2.5] # unique input\n",
    "weights = [0.2, 0.8, -0.5, 1.0] # each unique input will have a unique weight \n",
    "bias = 2 # each unique neuron has a bias\n",
    "\n",
    "output = inputs[0] * weights[0] + \\\n",
    "         inputs[1] * weights[1] + \\\n",
    "         inputs[2] * weights[2] + \\\n",
    "         inputs[3] * weights[3] + \\\n",
    "         bias\n",
    "output"
   ]
  },
  {
   "cell_type": "code",
   "execution_count": 65,
   "metadata": {},
   "outputs": [
    {
     "output_type": "execute_result",
     "data": {
      "text/plain": [
       "[4.8, 1.21, 2.385]"
      ]
     },
     "metadata": {},
     "execution_count": 65
    }
   ],
   "source": [
    "# 4 inputs into 3 neurons\n",
    "inputs = [1, 2, 3, 2.5] # 4 inputs  \n",
    "\n",
    "weights1 = [0.2, 0.8, -0.5, 1.0] \n",
    "weights2 = [0.5, -0.91, 0.26, -0.5] \n",
    "weights3 = [-0.26, -0.27, 0.17, 0.87] \n",
    "\n",
    "bias1 = 2 \n",
    "bias2 = 3\n",
    "bias3 = 0.5\n",
    "\n",
    "output = [inputs[0] * weights1[0] + \\\n",
    "         inputs[1] * weights1[1] + \\\n",
    "         inputs[2] * weights1[2] + \\\n",
    "         inputs[3] * weights1[3] + \\\n",
    "         bias1,\n",
    "         inputs[0] * weights2[0] + \\\n",
    "         inputs[1] * weights2[1] + \\\n",
    "         inputs[2] * weights2[2] + \\\n",
    "         inputs[3] * weights2[3] + \\\n",
    "         bias2, \n",
    "         inputs[0] * weights3[0] + \\\n",
    "         inputs[1] * weights3[1] + \\\n",
    "         inputs[2] * weights3[2] + \\\n",
    "         inputs[3] * weights3[3] + \\\n",
    "         bias3\n",
    "        ]\n",
    "output"
   ]
  },
  {
   "source": [
    "# The Dot Product"
   ],
   "cell_type": "markdown",
   "metadata": {}
  },
  {
   "cell_type": "code",
   "execution_count": 66,
   "metadata": {},
   "outputs": [
    {
     "output_type": "execute_result",
     "data": {
      "text/plain": [
       "[([0.2, 0.8, -0.5, 1.0], 2),\n",
       " ([0.5, -0.91, 0.26, -0.5], 3),\n",
       " ([-0.26, -0.27, 0.17, 0.87], 0.5)]"
      ]
     },
     "metadata": {},
     "execution_count": 66
    }
   ],
   "source": [
    "weights = [ [0.2, 0.8, -0.5, 1.0],\n",
    "            [0.5, -0.91, 0.26, -0.5],\n",
    "            [-0.26, -0.27, 0.17, 0.87]\n",
    "            ]\n",
    "\n",
    "biases = [2, 3, 0.5]\n",
    "\n",
    "list(zip(weights, biases))"
   ]
  },
  {
   "cell_type": "code",
   "execution_count": 67,
   "metadata": {},
   "outputs": [
    {
     "output_type": "execute_result",
     "data": {
      "text/plain": [
       "[4.8, 1.21, 2.385]"
      ]
     },
     "metadata": {},
     "execution_count": 67
    }
   ],
   "source": [
    "inputs = [1, 2, 3, 2.5] # 4 inputs  \n",
    "\n",
    "weights = [ [0.2, 0.8, -0.5, 1.0],\n",
    "            [0.5, -0.91, 0.26, -0.5],\n",
    "            [-0.26, -0.27, 0.17, 0.87]\n",
    "            ]\n",
    "\n",
    "biases = [2, 3, 0.5]\n",
    "\n",
    "layer_outputs = [] # output of the current layer\n",
    "for neuron_weights, neuron_bias in zip(weights, biases):\n",
    "    neuron_output = 0 # output of a given neuron\n",
    "\n",
    "    for n_input, weight in zip(inputs, neuron_weights):\n",
    "        neuron_output += n_input*weight\n",
    "    neuron_output += neuron_bias\n",
    "\n",
    "    layer_outputs.append(neuron_output)\n",
    "\n",
    "layer_outputs"
   ]
  },
  {
   "source": [
    "# Dot Product - Vector, List and NDArray"
   ],
   "cell_type": "markdown",
   "metadata": {}
  },
  {
   "cell_type": "code",
   "execution_count": 68,
   "metadata": {},
   "outputs": [
    {
     "output_type": "execute_result",
     "data": {
      "text/plain": [
       "(4,)"
      ]
     },
     "metadata": {},
     "execution_count": 68
    }
   ],
   "source": [
    "x = np.array([1,2,3,4])\n",
    "x.shape \n",
    "# this is a 1-d array, \n",
    "# in python, most list (i.e. no inner list) is a one-d array\n",
    "# in mathm a list is a vector"
   ]
  },
  {
   "cell_type": "code",
   "execution_count": 69,
   "metadata": {},
   "outputs": [
    {
     "output_type": "execute_result",
     "data": {
      "text/plain": [
       "(2, 4)"
      ]
     },
     "metadata": {},
     "execution_count": 69
    }
   ],
   "source": [
    "lol = [[1,2,3,4], [5,6,7,8]]\n",
    "x = np.array(lol)\n",
    "x.shape\n",
    "# this is a 2-d array\n",
    "# this is a matrix"
   ]
  },
  {
   "cell_type": "code",
   "execution_count": 70,
   "metadata": {},
   "outputs": [
    {
     "output_type": "stream",
     "name": "stdout",
     "text": [
      "[3 4]\n\n[0 0]\n\n[0 0]\n"
     ]
    }
   ],
   "source": [
    "# dot-product multiple element-wise from both arrays\n",
    "a = np.random.randint(0,10, (2,))\n",
    "b = np.random.randint(0,10, (2,))\n",
    "print(a)\n",
    "print()\n",
    "print(b)\n",
    "print()\n",
    "print(a*b)"
   ]
  },
  {
   "cell_type": "code",
   "execution_count": 71,
   "metadata": {},
   "outputs": [
    {
     "output_type": "execute_result",
     "data": {
      "text/plain": [
       "4.8"
      ]
     },
     "metadata": {},
     "execution_count": 71
    }
   ],
   "source": [
    "inputs = [1, 2, 3, 2.5] \n",
    "weights = [0.2, 0.8, -0.5, 1.0]\n",
    "bias = 2\n",
    "\n",
    "# output = np.dot(inputs, weights) + bias ---> not ideal\n",
    "# weights should come first\n",
    "\n",
    "output = np.dot(weights, inputs) + bias\n",
    "output"
   ]
  },
  {
   "cell_type": "code",
   "execution_count": 72,
   "metadata": {},
   "outputs": [
    {
     "output_type": "execute_result",
     "data": {
      "text/plain": [
       "array([4.8  , 1.21 , 2.385])"
      ]
     },
     "metadata": {},
     "execution_count": 72
    }
   ],
   "source": [
    "inputs = [1, 2, 3, 2.5] # 4 inputs / features \n",
    "\n",
    "weights = [ [0.2, 0.8, -0.5, 1.0],\n",
    "            [0.5, -0.91, 0.26, -0.5],\n",
    "            [-0.26, -0.27, 0.17, 0.87]\n",
    "            ]\n",
    "biases = [2, 3, 0.5]\n",
    "\n",
    "output = np.dot(weights, inputs) + biases\n",
    "\n",
    "output"
   ]
  },
  {
   "cell_type": "code",
   "execution_count": 73,
   "metadata": {},
   "outputs": [
    {
     "output_type": "stream",
     "name": "stdout",
     "text": [
      "(3, 4)\n(4,)\n\n(3,)\n\n(3,)\n"
     ]
    }
   ],
   "source": [
    "print(np.array(weights).shape)\n",
    "print(np.array(inputs).shape)\n",
    "print()\n",
    "\n",
    "print(np.dot(weights, inputs).shape)\n",
    "print()\n",
    "\n",
    "print(np.array(biases).shape)"
   ]
  },
  {
   "source": [],
   "cell_type": "markdown",
   "metadata": {}
  },
  {
   "cell_type": "code",
   "execution_count": null,
   "metadata": {},
   "outputs": [],
   "source": []
  },
  {
   "cell_type": "code",
   "execution_count": null,
   "metadata": {},
   "outputs": [],
   "source": []
  },
  {
   "cell_type": "code",
   "execution_count": null,
   "metadata": {},
   "outputs": [],
   "source": []
  },
  {
   "cell_type": "code",
   "execution_count": null,
   "metadata": {},
   "outputs": [],
   "source": []
  },
  {
   "cell_type": "code",
   "execution_count": null,
   "metadata": {},
   "outputs": [],
   "source": []
  },
  {
   "cell_type": "code",
   "execution_count": null,
   "metadata": {},
   "outputs": [],
   "source": []
  },
  {
   "cell_type": "code",
   "execution_count": null,
   "metadata": {},
   "outputs": [],
   "source": []
  },
  {
   "cell_type": "code",
   "execution_count": null,
   "metadata": {},
   "outputs": [],
   "source": []
  },
  {
   "cell_type": "code",
   "execution_count": null,
   "metadata": {},
   "outputs": [],
   "source": []
  },
  {
   "cell_type": "code",
   "execution_count": null,
   "metadata": {},
   "outputs": [],
   "source": []
  }
 ]
}